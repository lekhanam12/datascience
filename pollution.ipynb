{
 "cells": [
  {
   "cell_type": "code",
   "execution_count": 3,
   "metadata": {},
   "outputs": [],
   "source": [
    "%matplotlib inline\n",
    "\n",
    "import matplotlib.pyplot as plt\n",
    "import geopandas as gpd\n",
    "import palettable as pltt\n",
    "import seaborn as sns\n",
    "from seaborn import palplot\n",
    "import pandas as pd"
   ]
  },
  {
   "cell_type": "code",
   "execution_count": 4,
   "metadata": {},
   "outputs": [
    {
     "data": {
      "text/html": [
       "<div>\n",
       "<style scoped>\n",
       "    .dataframe tbody tr th:only-of-type {\n",
       "        vertical-align: middle;\n",
       "    }\n",
       "\n",
       "    .dataframe tbody tr th {\n",
       "        vertical-align: top;\n",
       "    }\n",
       "\n",
       "    .dataframe thead th {\n",
       "        text-align: right;\n",
       "    }\n",
       "</style>\n",
       "<table border=\"1\" class=\"dataframe\">\n",
       "  <thead>\n",
       "    <tr style=\"text-align: right;\">\n",
       "      <th></th>\n",
       "      <th>pc11_district_id</th>\n",
       "      <th>pc11_district_name</th>\n",
       "      <th>pc11_state_id</th>\n",
       "      <th>pc11_state_name</th>\n",
       "      <th>mean_pollution</th>\n",
       "    </tr>\n",
       "  </thead>\n",
       "  <tbody>\n",
       "    <tr>\n",
       "      <th>0</th>\n",
       "      <td>001</td>\n",
       "      <td>Kupwara</td>\n",
       "      <td>1</td>\n",
       "      <td>Jammu &amp; Kashmir</td>\n",
       "      <td>29.339097</td>\n",
       "    </tr>\n",
       "    <tr>\n",
       "      <th>1</th>\n",
       "      <td>002</td>\n",
       "      <td>Badgam</td>\n",
       "      <td>1</td>\n",
       "      <td>Jammu &amp; Kashmir</td>\n",
       "      <td>38.904636</td>\n",
       "    </tr>\n",
       "    <tr>\n",
       "      <th>2</th>\n",
       "      <td>003</td>\n",
       "      <td>LehLadakh</td>\n",
       "      <td>1</td>\n",
       "      <td>Jammu &amp; Kashmir</td>\n",
       "      <td>3.993170</td>\n",
       "    </tr>\n",
       "    <tr>\n",
       "      <th>3</th>\n",
       "      <td>004</td>\n",
       "      <td>Kargil</td>\n",
       "      <td>1</td>\n",
       "      <td>Jammu &amp; Kashmir</td>\n",
       "      <td>8.861835</td>\n",
       "    </tr>\n",
       "    <tr>\n",
       "      <th>4</th>\n",
       "      <td>005</td>\n",
       "      <td>Punch</td>\n",
       "      <td>1</td>\n",
       "      <td>Jammu &amp; Kashmir</td>\n",
       "      <td>35.535978</td>\n",
       "    </tr>\n",
       "  </tbody>\n",
       "</table>\n",
       "</div>"
      ],
      "text/plain": [
       "  pc11_district_id pc11_district_name  pc11_state_id  pc11_state_name  \\\n",
       "0              001            Kupwara              1  Jammu & Kashmir   \n",
       "1              002             Badgam              1  Jammu & Kashmir   \n",
       "2              003          LehLadakh              1  Jammu & Kashmir   \n",
       "3              004             Kargil              1  Jammu & Kashmir   \n",
       "4              005              Punch              1  Jammu & Kashmir   \n",
       "\n",
       "   mean_pollution  \n",
       "0       29.339097  \n",
       "1       38.904636  \n",
       "2        3.993170  \n",
       "3        8.861835  \n",
       "4       35.535978  "
      ]
     },
     "execution_count": 4,
     "metadata": {},
     "output_type": "execute_result"
    }
   ],
   "source": [
    "# Data file paths\n",
    "pollution_dta_path = 'data/Indicators/ddl_pollution_sedac_2011.dta'\n",
    "\n",
    "# Read dta file in\n",
    "pollution_df= pd.read_stata(pollution_dta_path)\n",
    "# Display top of table\n",
    "pollution_df.head()"
   ]
  },
  {
   "cell_type": "markdown",
   "metadata": {},
   "source": [
    "### Data Documentation\n",
    "\n",
    "Pollution data: We use data on the global surface of concentrations (micrograms per cubic meter) of mineral dust and sea-salt filtered fine particulate matter of 2.5 micrometers or smaller (PM2.5) data for 2016 from Global Annual PM2.5 Grids hosted at the Socioeconomic Data and Applications Center (SEDAC) (https://sedac.ciesin.columbia.edu/data/set/sdei-global-annual-gwr-pm2-5-modis-misr-seawifs-aod).\n",
    "\n",
    "We export these data into ArcGIS where we join these data with shapefiles containing district boundaries from 2011 (census year) and from 2019 (latest) to obtain the average pollution estimates at the district level.  \n",
    "\n",
    "\n",
    "|   Variable Name                   |             Definition                                      |\n",
    "|-----------------------------------|-------------------------------------------------------------|\n",
    "|pc11_district_id                   |Unique District ID Census 2011                               |\n",
    "|pc11_district_name                 |District name in census 2011                                 |\n",
    "|pc11_state_id                      |State ID in census 2011                                      |\n",
    "|pc11_state_name                    |State name in census 2011                                    |\n",
    "|mean_pollution                     |PM2.5 mean in 2016                                           |\n"
   ]
  },
  {
   "cell_type": "code",
   "execution_count": 5,
   "metadata": {},
   "outputs": [
    {
     "name": "stdout",
     "output_type": "stream",
     "text": [
      "<class 'pandas.core.frame.DataFrame'>\n",
      "Int64Index: 640 entries, 0 to 639\n",
      "Data columns (total 5 columns):\n",
      " #   Column              Non-Null Count  Dtype  \n",
      "---  ------              --------------  -----  \n",
      " 0   pc11_district_id    640 non-null    object \n",
      " 1   pc11_district_name  640 non-null    object \n",
      " 2   pc11_state_id       640 non-null    int8   \n",
      " 3   pc11_state_name     640 non-null    object \n",
      " 4   mean_pollution      640 non-null    float64\n",
      "dtypes: float64(1), int8(1), object(3)\n",
      "memory usage: 25.6+ KB\n"
     ]
    }
   ],
   "source": [
    "# General info\n",
    "pollution_df.info()"
   ]
  },
  {
   "cell_type": "code",
   "execution_count": 7,
   "metadata": {},
   "outputs": [
    {
     "data": {
      "text/plain": [
       "pc11_district_id      0\n",
       "pc11_district_name    0\n",
       "pc11_state_id         0\n",
       "pc11_state_name       0\n",
       "mean_pollution        0\n",
       "dtype: int64"
      ]
     },
     "execution_count": 7,
     "metadata": {},
     "output_type": "execute_result"
    }
   ],
   "source": [
    "# number of NaN values per column\n",
    "pollution_df.isnull().sum()"
   ]
  },
  {
   "cell_type": "code",
   "execution_count": 8,
   "metadata": {},
   "outputs": [
    {
     "data": {
      "text/html": [
       "<div>\n",
       "<style scoped>\n",
       "    .dataframe tbody tr th:only-of-type {\n",
       "        vertical-align: middle;\n",
       "    }\n",
       "\n",
       "    .dataframe tbody tr th {\n",
       "        vertical-align: top;\n",
       "    }\n",
       "\n",
       "    .dataframe thead th {\n",
       "        text-align: right;\n",
       "    }\n",
       "</style>\n",
       "<table border=\"1\" class=\"dataframe\">\n",
       "  <thead>\n",
       "    <tr style=\"text-align: right;\">\n",
       "      <th></th>\n",
       "      <th>pc11_state_id</th>\n",
       "      <th>mean_pollution</th>\n",
       "    </tr>\n",
       "  </thead>\n",
       "  <tbody>\n",
       "    <tr>\n",
       "      <th>count</th>\n",
       "      <td>640.000000</td>\n",
       "      <td>640.000000</td>\n",
       "    </tr>\n",
       "    <tr>\n",
       "      <th>mean</th>\n",
       "      <td>17.114062</td>\n",
       "      <td>47.819471</td>\n",
       "    </tr>\n",
       "    <tr>\n",
       "      <th>std</th>\n",
       "      <td>9.426486</td>\n",
       "      <td>27.068609</td>\n",
       "    </tr>\n",
       "    <tr>\n",
       "      <th>min</th>\n",
       "      <td>1.000000</td>\n",
       "      <td>3.993170</td>\n",
       "    </tr>\n",
       "    <tr>\n",
       "      <th>25%</th>\n",
       "      <td>9.000000</td>\n",
       "      <td>28.019641</td>\n",
       "    </tr>\n",
       "    <tr>\n",
       "      <th>50%</th>\n",
       "      <td>18.000000</td>\n",
       "      <td>39.533115</td>\n",
       "    </tr>\n",
       "    <tr>\n",
       "      <th>75%</th>\n",
       "      <td>24.000000</td>\n",
       "      <td>62.502497</td>\n",
       "    </tr>\n",
       "    <tr>\n",
       "      <th>max</th>\n",
       "      <td>35.000000</td>\n",
       "      <td>123.469135</td>\n",
       "    </tr>\n",
       "  </tbody>\n",
       "</table>\n",
       "</div>"
      ],
      "text/plain": [
       "       pc11_state_id  mean_pollution\n",
       "count     640.000000      640.000000\n",
       "mean       17.114062       47.819471\n",
       "std         9.426486       27.068609\n",
       "min         1.000000        3.993170\n",
       "25%         9.000000       28.019641\n",
       "50%        18.000000       39.533115\n",
       "75%        24.000000       62.502497\n",
       "max        35.000000      123.469135"
      ]
     },
     "execution_count": 8,
     "metadata": {},
     "output_type": "execute_result"
    }
   ],
   "source": [
    "pollution_df.describe()"
   ]
  },
  {
   "cell_type": "code",
   "execution_count": 10,
   "metadata": {},
   "outputs": [
    {
     "data": {
      "text/html": [
       "<div>\n",
       "<style scoped>\n",
       "    .dataframe tbody tr th:only-of-type {\n",
       "        vertical-align: middle;\n",
       "    }\n",
       "\n",
       "    .dataframe tbody tr th {\n",
       "        vertical-align: top;\n",
       "    }\n",
       "\n",
       "    .dataframe thead th {\n",
       "        text-align: right;\n",
       "    }\n",
       "</style>\n",
       "<table border=\"1\" class=\"dataframe\">\n",
       "  <thead>\n",
       "    <tr style=\"text-align: right;\">\n",
       "      <th></th>\n",
       "      <th>pc11_district_id</th>\n",
       "      <th>pc11_state_id</th>\n",
       "      <th>mean_pollution</th>\n",
       "    </tr>\n",
       "  </thead>\n",
       "  <tbody>\n",
       "    <tr>\n",
       "      <th>0</th>\n",
       "      <td>001</td>\n",
       "      <td>1</td>\n",
       "      <td>29.339097</td>\n",
       "    </tr>\n",
       "    <tr>\n",
       "      <th>1</th>\n",
       "      <td>002</td>\n",
       "      <td>1</td>\n",
       "      <td>38.904636</td>\n",
       "    </tr>\n",
       "    <tr>\n",
       "      <th>2</th>\n",
       "      <td>003</td>\n",
       "      <td>1</td>\n",
       "      <td>3.993170</td>\n",
       "    </tr>\n",
       "    <tr>\n",
       "      <th>3</th>\n",
       "      <td>004</td>\n",
       "      <td>1</td>\n",
       "      <td>8.861835</td>\n",
       "    </tr>\n",
       "    <tr>\n",
       "      <th>4</th>\n",
       "      <td>005</td>\n",
       "      <td>1</td>\n",
       "      <td>35.535978</td>\n",
       "    </tr>\n",
       "  </tbody>\n",
       "</table>\n",
       "</div>"
      ],
      "text/plain": [
       "  pc11_district_id  pc11_state_id  mean_pollution\n",
       "0              001              1       29.339097\n",
       "1              002              1       38.904636\n",
       "2              003              1        3.993170\n",
       "3              004              1        8.861835\n",
       "4              005              1       35.535978"
      ]
     },
     "execution_count": 10,
     "metadata": {},
     "output_type": "execute_result"
    }
   ],
   "source": [
    "# Dropping columns \n",
    "pollution_df=pollution_df.drop(['pc11_district_name', 'pc11_state_name'], axis=1\n",
    "                    )\n",
    "# Display top of table\n",
    "pollution_df.head()"
   ]
  }
 ],
 "metadata": {
  "kernelspec": {
   "display_name": "Python 3",
   "language": "python",
   "name": "python3"
  },
  "language_info": {
   "codemirror_mode": {
    "name": "ipython",
    "version": 3
   },
   "file_extension": ".py",
   "mimetype": "text/x-python",
   "name": "python",
   "nbconvert_exporter": "python",
   "pygments_lexer": "ipython3",
   "version": "3.7.8"
  }
 },
 "nbformat": 4,
 "nbformat_minor": 4
}
